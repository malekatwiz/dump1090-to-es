{
 "cells": [
  {
   "cell_type": "code",
   "execution_count": 1,
   "metadata": {},
   "outputs": [
    {
     "name": "stdout",
     "output_type": "stream",
     "text": [
      "      hex    flight        lat        lon  altitude  track  speed  \\\n",
      "0  4074e3            45.358475 -73.772801      2238    112    450   \n",
      "1  4074e3  BAW9EW    45.354584 -73.614938      2452     94    522   \n",
      "2  4074e3  BAW9EW    45.354449 -73.611748      2467     93    522   \n",
      "3  4074e3            45.354821 -73.620256      2421     93    518   \n",
      "4  4074e3            45.354728 -73.618447      2429     94    520   \n",
      "\n",
      "     created_on created_by                                           location  \n",
      "0  1.730687e+09     node_1  {'type': 'Point', 'coordinates': [-73.772801, ...  \n",
      "1  1.730687e+09     node_1  {'type': 'Point', 'coordinates': [-73.614938, ...  \n",
      "2  1.730687e+09     node_1  {'type': 'Point', 'coordinates': [-73.611748, ...  \n",
      "3  1.730687e+09     node_1  {'type': 'Point', 'coordinates': [-73.620256, ...  \n",
      "4  1.730687e+09     node_1  {'type': 'Point', 'coordinates': [-73.618447, ...  \n"
     ]
    }
   ],
   "source": [
    "# read aircraft_data.json file\n",
    "\n",
    "import json\n",
    "import pandas as pd\n",
    "\n",
    "file_path = 'C:\\\\temp\\\\aircraft_data_unique.json'\n",
    "\n",
    "dataset = pd.read_json(file_path, orient='records', lines=True)\n",
    "print(dataset.head())"
   ]
  },
  {
   "cell_type": "code",
   "execution_count": 12,
   "metadata": {},
   "outputs": [],
   "source": [
    "import folium\n",
    "\n",
    "# create a map\n",
    "m = folium.Map(location=[45.50884, -73.58781], zoom_start=8)\n",
    "\n",
    "# drop rows with empty 'flight'\n",
    "dataset = dataset.dropna(subset=['flight'])\n",
    "# group by 'hex' column\n",
    "sample_data = dataset.groupby('hex')\n",
    "# take all samples of 10 first groups\n",
    "sample_data = sample_data.head(2)\n",
    "\n",
    "# add each point of same 'hex' with a different color\n",
    "# for idx, row in sample_data.iterrows():\n",
    "#     folium.Marker([row['lat'], row['lon']], popup=row['flight']).add_to(m)\n",
    "    \n",
    "# iterate through grouped data, vector each group\n",
    "for name, group in sample_data.groupby('hex'):\n",
    "    trial_vector = []\n",
    "    for idx, row in group.iterrows():\n",
    "        trial_vector.append([row['lat'], row['lon']])\n",
    "\n",
    "    # add a line to the map\n",
    "    folium.PolyLine(locations=trial_vector, popup=name).add_to(m)\n",
    "\n",
    "# display the map\n",
    "m.save('C:\\\\temp\\\\map.html')"
   ]
  }
 ],
 "metadata": {
  "kernelspec": {
   "display_name": ".venv",
   "language": "python",
   "name": "python3"
  },
  "language_info": {
   "codemirror_mode": {
    "name": "ipython",
    "version": 3
   },
   "file_extension": ".py",
   "mimetype": "text/x-python",
   "name": "python",
   "nbconvert_exporter": "python",
   "pygments_lexer": "ipython3",
   "version": "3.12.4"
  }
 },
 "nbformat": 4,
 "nbformat_minor": 2
}
