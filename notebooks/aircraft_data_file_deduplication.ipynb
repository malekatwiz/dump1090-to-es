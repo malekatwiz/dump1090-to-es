{
 "cells": [
  {
   "cell_type": "code",
   "execution_count": 3,
   "metadata": {},
   "outputs": [],
   "source": [
    "# read aircaft.json file/s line by line, then group by ['hex', 'lat', 'lon', 'created_on'] and remove duplicates\n",
    "\n",
    "import json\n",
    "import time\n",
    "\n",
    "def read_json_file(file):\n",
    "    with open(file) as f:\n",
    "        for line in f:\n",
    "            yield json.loads(line)\n",
    "\n",
    "def write_json_file(file, data):\n",
    "    with open(file, 'w') as f:\n",
    "        for line in data:\n",
    "            f.write(json.dumps(line) + '\\n')\n",
    "\n",
    "file_content = read_json_file('C:\\\\temp\\\\aircraft_data.json')\n",
    "\n",
    "# remove duplicates by ['hex', 'lat', 'lon', 'created_on']\n",
    "unique_content = []\n",
    "unique_content_keys = set()\n",
    "for line in file_content:\n",
    "    # convert created_on sec epoch to string format # YYYY-MM-DD HH:MM (UTC)\n",
    "    timestamp = time.strftime('%Y-%m-%d %H:%M', time.gmtime(line['created_on']))\n",
    "    key = (line['hex'], line['lat'], line['lon'], timestamp)\n",
    "    if key not in unique_content_keys:\n",
    "        unique_content.append(line)\n",
    "        unique_content_keys.add(key)\n",
    "\n",
    "write_json_file('C:\\\\temp\\\\aircraft_data_unique.json', unique_content)"
   ]
  }
 ],
 "metadata": {
  "kernelspec": {
   "display_name": ".venv",
   "language": "python",
   "name": "python3"
  },
  "language_info": {
   "codemirror_mode": {
    "name": "ipython",
    "version": 3
   },
   "file_extension": ".py",
   "mimetype": "text/x-python",
   "name": "python",
   "nbconvert_exporter": "python",
   "pygments_lexer": "ipython3",
   "version": "3.12.4"
  }
 },
 "nbformat": 4,
 "nbformat_minor": 2
}
