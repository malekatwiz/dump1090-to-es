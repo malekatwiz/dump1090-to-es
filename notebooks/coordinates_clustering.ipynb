{
 "cells": [
  {
   "cell_type": "code",
   "execution_count": 30,
   "metadata": {},
   "outputs": [],
   "source": [
    "import datetime\n",
    "import numpy as np\n",
    "import pandas as pd\n",
    "import matplotlib.pyplot as plt\n",
    "from sklearn.cluster import KMeans\n",
    "from elasticsearch import Elasticsearch\n",
    "\n",
    "es = Elasticsearch('http://192.168.2.23:9200')\n",
    "elasticsearch_index = \"aircraft_data\"\n",
    "\n",
    "def get_data(time_window_hours=24, num_samples=1000):\n",
    "    # documents has 'created_on' field as seconds elapsed since epoch\n",
    "    start_time = int((datetime.datetime.now() - datetime.timedelta(hours=time_window_hours)).timestamp())\n",
    "    end_time = int(datetime.datetime.now().timestamp())\n",
    "\n",
    "    query = {\n",
    "        \"query\": {\n",
    "            \"range\": {\n",
    "                \"created_on\": {\n",
    "                    \"gte\": start_time,\n",
    "                    \"lte\": end_time\n",
    "                }\n",
    "            }\n",
    "        }\n",
    "    }\n",
    "    res = es.search(index=elasticsearch_index, body=query)\n",
    "    data = []\n",
    "    for hit in res['hits']['hits']:\n",
    "        data.append(hit['_source'])\n",
    "    return data\n",
    "\n",
    "fetched_data = get_data()\n",
    "data = pd.DataFrame(fetched_data)"
   ]
  },
  {
   "cell_type": "code",
   "execution_count": 31,
   "metadata": {},
   "outputs": [],
   "source": [
    "# TODO: remove duplicates coordinates, so clustering is more accurate\n",
    "\n",
    "data = data.drop_duplicates(subset=['lat', 'lon'])\n",
    "# print(data)"
   ]
  },
  {
   "cell_type": "code",
   "execution_count": 35,
   "metadata": {},
   "outputs": [
    {
     "name": "stdout",
     "output_type": "stream",
     "text": [
      "[0]\n"
     ]
    }
   ],
   "source": [
    "\n",
    "coordinates_data = data[['lat', 'lon']]\n",
    "# print(coordinates_data)\n",
    "kmeans = KMeans(n_clusters=1, init='k-means++', random_state=42)\n",
    "clustered_data = kmeans.fit_predict(coordinates_data)\n",
    "\n",
    "print(clustered_data)\n",
    "\n",
    "# plt.scatter(clustered_data['value'], clustered_data['value'], c=clustered_data['cluster'], cmap='viridis')\n",
    "# plt.xlabel('value')\n",
    "# plt.ylabel('value')\n",
    "\n",
    "# plt.show()\n"
   ]
  }
 ],
 "metadata": {
  "kernelspec": {
   "display_name": ".venv",
   "language": "python",
   "name": "python3"
  },
  "language_info": {
   "codemirror_mode": {
    "name": "ipython",
    "version": 3
   },
   "file_extension": ".py",
   "mimetype": "text/x-python",
   "name": "python",
   "nbconvert_exporter": "python",
   "pygments_lexer": "ipython3",
   "version": "3.12.4"
  }
 },
 "nbformat": 4,
 "nbformat_minor": 2
}
